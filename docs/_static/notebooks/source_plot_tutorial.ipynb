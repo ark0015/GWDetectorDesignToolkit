{
 "cells": [
  {
   "cell_type": "markdown",
   "metadata": {},
   "source": [
    "# Using `gwent` to Generate Source Characteristic Strain Curves"
   ]
  },
  {
   "cell_type": "markdown",
   "metadata": {},
   "source": [
    "Here we show examples of using the different classes in `gwent` for various black holes binaries (BHBs), both in the frequency and time domain.\n",
    "\n",
    "First, we load important packages"
   ]
  },
  {
   "cell_type": "code",
   "execution_count": 1,
   "metadata": {},
   "outputs": [],
   "source": [
    "%load_ext autoreload\n",
    "%autoreload 2"
   ]
  },
  {
   "cell_type": "code",
   "execution_count": 2,
   "metadata": {},
   "outputs": [
    {
     "ename": "ModuleNotFoundError",
     "evalue": "No module named 'gwent'",
     "output_type": "error",
     "traceback": [
      "\u001b[0;31m---------------------------------------------------------------------------\u001b[0m",
      "\u001b[0;31mModuleNotFoundError\u001b[0m                       Traceback (most recent call last)",
      "\u001b[0;32m<ipython-input-2-26355c29a6e5>\u001b[0m in \u001b[0;36m<module>\u001b[0;34m\u001b[0m\n\u001b[1;32m      7\u001b[0m \u001b[0;32mimport\u001b[0m \u001b[0mastropy\u001b[0m\u001b[0;34m.\u001b[0m\u001b[0munits\u001b[0m \u001b[0;32mas\u001b[0m \u001b[0mu\u001b[0m\u001b[0;34m\u001b[0m\u001b[0;34m\u001b[0m\u001b[0m\n\u001b[1;32m      8\u001b[0m \u001b[0;34m\u001b[0m\u001b[0m\n\u001b[0;32m----> 9\u001b[0;31m \u001b[0;32mimport\u001b[0m \u001b[0mgwent\u001b[0m\u001b[0;34m\u001b[0m\u001b[0;34m\u001b[0m\u001b[0m\n\u001b[0m\u001b[1;32m     10\u001b[0m \u001b[0;32mimport\u001b[0m \u001b[0mgwent\u001b[0m\u001b[0;34m.\u001b[0m\u001b[0mdetector\u001b[0m \u001b[0;32mas\u001b[0m \u001b[0mdetector\u001b[0m\u001b[0;34m\u001b[0m\u001b[0;34m\u001b[0m\u001b[0m\n\u001b[1;32m     11\u001b[0m \u001b[0;32mimport\u001b[0m \u001b[0mgwent\u001b[0m\u001b[0;34m.\u001b[0m\u001b[0mbinary\u001b[0m \u001b[0;32mas\u001b[0m \u001b[0mbinary\u001b[0m\u001b[0;34m\u001b[0m\u001b[0;34m\u001b[0m\u001b[0m\n",
      "\u001b[0;31mModuleNotFoundError\u001b[0m: No module named 'gwent'"
     ]
    }
   ],
   "source": [
    "import numpy as np\n",
    "import matplotlib as mpl\n",
    "import matplotlib.pyplot as plt\n",
    "\n",
    "from cycler import cycler\n",
    "from scipy.constants import golden_ratio\n",
    "import astropy.units as u\n",
    "\n",
    "import os, sys\n",
    "current_path = os.getcwd()\n",
    "splt_path = current_path.split(\"/\")\n",
    "top_path_idx = splt_path.index(\"Research\")\n",
    "top_directory = \"/\".join(splt_path[0 : top_path_idx + 1])\n",
    "gwent_path = top_directory + \"/gwent/\"\n",
    "sys.path.insert(0, gwent_path)\n",
    "\n",
    "import gwent\n",
    "import gwent.detector as detector\n",
    "import gwent.binary as binary\n",
    "import gwent.snr as snr\n",
    "\n",
    "#Turn off warnings for tutorial\n",
    "import warnings\n",
    "warnings.filterwarnings('ignore')"
   ]
  },
  {
   "cell_type": "markdown",
   "metadata": {},
   "source": [
    "Setting matplotlib and plotting preferences"
   ]
  },
  {
   "cell_type": "code",
   "execution_count": null,
   "metadata": {},
   "outputs": [],
   "source": [
    "def get_fig_size(width=7,scale=1.0):\n",
    "    #width = 3.36 # 242 pt\n",
    "    base_size = np.array([1, 1/scale/golden_ratio])\n",
    "    fig_size = width * base_size\n",
    "    return(fig_size)\n",
    "mpl.rcParams['figure.dpi'] = 300\n",
    "mpl.rcParams['figure.figsize'] = get_fig_size()\n",
    "mpl.rcParams['text.usetex'] = True\n",
    "mpl.rc('font',**{'family':'serif','serif':['Times New Roman']})\n",
    "mpl.rcParams['lines.linewidth'] = 2\n",
    "mpl.rcParams['axes.labelsize'] = 12\n",
    "mpl.rcParams['xtick.labelsize'] = 12\n",
    "mpl.rcParams['ytick.labelsize'] = 12\n",
    "mpl.rcParams['legend.fontsize'] = 10\n",
    "color_cycle_wong = ['#000000','#E69F00','#56B4E9','#009E73','#F0E442','#0072B2','#D55E00','#CC79A7']\n",
    "mpl.rcParams['axes.prop_cycle'] = cycler(color=color_cycle_wong)"
   ]
  },
  {
   "cell_type": "markdown",
   "metadata": {},
   "source": [
    "We need to get the file directories to load in the instrument files."
   ]
  },
  {
   "cell_type": "code",
   "execution_count": null,
   "metadata": {},
   "outputs": [],
   "source": [
    "load_directory = gwent.__path__[0] + '/LoadFiles'"
   ]
  },
  {
   "cell_type": "markdown",
   "metadata": {},
   "source": [
    "## Initialize different instruments\n",
    "\n",
    "To compare BHB strains and assess their detectability, we load in a few example detectors. For more information about loading instruments, see the tutorial on detectors.\n"
   ]
  },
  {
   "cell_type": "markdown",
   "metadata": {},
   "source": [
    "### NANOGrav 11yr Characteristic Strain\n",
    "\n",
    "Using real NANOGrav 11yr data put through `hasasia`"
   ]
  },
  {
   "cell_type": "code",
   "execution_count": null,
   "metadata": {},
   "outputs": [],
   "source": [
    "NANOGrav_filedirectory = load_directory + '/InstrumentFiles/NANOGrav/StrainFiles/' \n",
    "NANOGrav_11yr_hasasia_file = NANOGrav_filedirectory + 'NANOGrav_11yr_S_eff.txt'\n",
    "NANOGrav_11yr_hasasia = detector.PTA('NANOGrav 11yr',load_location=NANOGrav_11yr_hasasia_file,I_type='E')\n",
    "NANOGrav_11yr_hasasia.T_obs = 11.4*u.yr"
   ]
  },
  {
   "cell_type": "markdown",
   "metadata": {},
   "source": [
    "### LISA Proposal 1\n",
    "\n",
    "Values taken from the ESA L3 proposal, Amaro-Seaone, et al., 2017 (https://arxiv.org/abs/1702.00786)"
   ]
  },
  {
   "cell_type": "code",
   "execution_count": null,
   "metadata": {},
   "outputs": [],
   "source": [
    "L = 2.5*u.Gm  #armlength in Gm\n",
    "L = L.to('m')\n",
    "LISA_T_obs = 4*u.yr\n",
    "\n",
    "f_acc_break_low = .4*u.mHz.to('Hz')*u.Hz\n",
    "f_acc_break_high = 8.*u.mHz.to('Hz')*u.Hz\n",
    "f_IMS_break = 2.*u.mHz.to('Hz')*u.Hz\n",
    "A_acc = 3e-15*u.m/u.s/u.s\n",
    "A_IMS = 10e-12*u.m\n",
    "\n",
    "Background = False\n",
    "\n",
    "LISA_prop1 = detector.SpaceBased('LISA',\n",
    "                                 LISA_T_obs,L,A_acc,f_acc_break_low,\n",
    "                                 f_acc_break_high,A_IMS,f_IMS_break,\n",
    "                                 Background=Background)"
   ]
  },
  {
   "cell_type": "markdown",
   "metadata": {},
   "source": [
    "### aLIGO"
   ]
  },
  {
   "cell_type": "code",
   "execution_count": null,
   "metadata": {},
   "outputs": [],
   "source": [
    "Ground_T_obs = 4*u.yr\n",
    "#aLIGO\n",
    "aLIGO_filedirectory = load_directory + '/InstrumentFiles/aLIGO/'\n",
    "aLIGO_1_filename = 'aLIGODesign.txt'\n",
    "\n",
    "aLIGO_1_filelocation = aLIGO_filedirectory + aLIGO_1_filename\n",
    "\n",
    "aLIGO_1 = detector.GroundBased('aLIGO 1',Ground_T_obs,load_location=aLIGO_1_filelocation,I_type='A')"
   ]
  },
  {
   "cell_type": "markdown",
   "metadata": {},
   "source": [
    "## Generating Binary Black Holes with `gwent` in the Frequency Domain\n",
    "\n",
    "We start with BHB parameters that exemplify the range of IMRPhenomD's waveforms from Khan, et al. 2016 https://arxiv.org/abs/1508.07253 and Husa, et al. 2016 https://arxiv.org/abs/1508.07250 "
   ]
  },
  {
   "cell_type": "code",
   "execution_count": null,
   "metadata": {},
   "outputs": [],
   "source": [
    "M = [1e6,65.0,1e10]\n",
    "q = [1.0,18.0,1.0]\n",
    "x1 = [0.5,0.0,-0.95]\n",
    "x2 = [0.3,0.0,-0.95]\n",
    "z = [3.0,0.093,20.0]"
   ]
  },
  {
   "cell_type": "markdown",
   "metadata": {},
   "source": [
    "Uses the first parameter values that lie in the `LISA_prop1` detector band with the precessing phenomenological `lalsuite` waveform IMRPhenomPv3."
   ]
  },
  {
   "cell_type": "code",
   "execution_count": null,
   "metadata": {},
   "outputs": [],
   "source": [
    "lalsuite_kwargs = {\"S1x\": 0.5, \"S1y\": 0., \"S1z\": x1[0],\n",
    "                   \"S2x\": -0.2, \"S2y\": 0.5, \"S2z\": x2[0],\n",
    "                   \"inclination\":np.pi/2}\n",
    "source_1 = binary.BBHFrequencyDomain(M[0],q[0],z[0],approximant='IMRPhenomPv3',lalsuite_kwargs=lalsuite_kwargs)"
   ]
  },
  {
   "cell_type": "markdown",
   "metadata": {},
   "source": [
    "Uses the second parameter values that lie in the `aLIGO` detector band."
   ]
  },
  {
   "cell_type": "code",
   "execution_count": null,
   "metadata": {},
   "outputs": [],
   "source": [
    "source_2 = binary.BBHFrequencyDomain(M[1],q[1],z[1],x1[1],x2[1])"
   ]
  },
  {
   "cell_type": "markdown",
   "metadata": {},
   "source": [
    "Uses the third parameter values that lie in the `NANOGrav_11yr_hasasia` detector band."
   ]
  },
  {
   "cell_type": "code",
   "execution_count": null,
   "metadata": {},
   "outputs": [],
   "source": [
    "source_3 = binary.BBHFrequencyDomain(M[2],q[2],z[2],x1[2],x2[2])"
   ]
  },
  {
   "cell_type": "markdown",
   "metadata": {},
   "source": [
    "## How to Get Information about BHB"
   ]
  },
  {
   "cell_type": "markdown",
   "metadata": {},
   "source": [
    "### Find out source 1's frequency given some time from merger."
   ]
  },
  {
   "cell_type": "code",
   "execution_count": null,
   "metadata": {},
   "outputs": [],
   "source": [
    "print(\"Source frequency 10 years prior to merger in Observer frame: \",\n",
    "      binary.Get_Source_Freq(source_1,10*u.yr,in_frame='observer',out_frame='source'))\n",
    "print(\"Source frequency 10 years prior to merger in Source frame: \",\n",
    "      binary.Get_Source_Freq(source_1,10*u.yr,in_frame='source',out_frame='source'))\n",
    "print(\"Observed frequency 10 years prior to merger in Observer frame: \",\n",
    "      binary.Get_Source_Freq(source_1,10*u.yr,in_frame='observer',out_frame='observer'))\n",
    "print(\"Observed frequency 10 years prior to merger in Source frame: \",\n",
    "      binary.Get_Source_Freq(source_1,10*u.yr,in_frame='source',out_frame='observer'))"
   ]
  },
  {
   "cell_type": "markdown",
   "metadata": {},
   "source": [
    "### Find out source 2's time to merger from a given frequency."
   ]
  },
  {
   "cell_type": "code",
   "execution_count": null,
   "metadata": {},
   "outputs": [],
   "source": [
    "print(\"Source time from merger for BHB with GW frequency of 1/minute (~17mHz) in the Observer frame: \",\n",
    "      binary.Get_Time_From_Merger(source_2,freq=1/u.minute,in_frame='observer',out_frame='source').to('yr'))\n",
    "print(\"Source time from merger for BHB with GW frequency of 1/minute (~17mHz) in the Source frame: \",\n",
    "      binary.Get_Time_From_Merger(source_2,freq=1/u.minute,in_frame='source',out_frame='source').to('yr'))\n",
    "print(\"Observed ime from merger for BHB with GW frequency of 1/minute (~17mHz) in the Observer frame: \",\n",
    "      binary.Get_Time_From_Merger(source_2,freq=1/u.minute,in_frame='observer',out_frame='observer').to('yr'))\n",
    "print(\"Observed time from merger for BHB with GW frequency of 1/minute (~17mHz) in the Source frame: \",\n",
    "      binary.Get_Time_From_Merger(source_2,freq=1/u.minute,in_frame='source',out_frame='observer').to('yr'))"
   ]
  },
  {
   "cell_type": "markdown",
   "metadata": {},
   "source": [
    "### Find out source 3's observed frequency given some evolved time. \n",
    "And whether the source is monochromatic or chirping for the evolved time in the observer frame."
   ]
  },
  {
   "cell_type": "code",
   "execution_count": null,
   "metadata": {},
   "outputs": [],
   "source": [
    "#First we have to give the source some initial frequency\n",
    "source_3.f_gw = 8*u.nHz\n",
    "\n",
    "binary.Check_Freq_Evol(source_3,T_evol=5*u.yr,T_evol_frame='observer')\n",
    "print(\"Observed frequency after 5 years of evolution in Observer frame: \",\n",
    "      source_3.f_T_obs)\n",
    "print(\"Does the source change a resolvable amount after evolving for 5 years in the Observer frame?: \",\n",
    "      source_3.ismono)\n",
    "print(\"\\n\")\n",
    "binary.Check_Freq_Evol(source_3,T_evol=5*u.yr,T_evol_frame='source')\n",
    "print(\"Observed frequency after 5 years of evolution in Source frame: \",\n",
    "      source_3.f_T_obs)\n",
    "print(\"Does the source change a resolvable amount after evolving for 5 years in the Source frame?: \",\n",
    "      source_3.ismono)"
   ]
  },
  {
   "cell_type": "markdown",
   "metadata": {},
   "source": [
    "We can set the instrument that \"observes\" the source. If you orginally assign the source an instrument (which we show in a bit), the initial frequency (`f_gw`) is set to the instrument's most sensitive frequency"
   ]
  },
  {
   "cell_type": "code",
   "execution_count": null,
   "metadata": {},
   "outputs": [],
   "source": [
    "source_3.instrument = NANOGrav_11yr_hasasia\n",
    "binary.Check_Freq_Evol(source_3)\n",
    "print(f\"Observed frequency after {np.max(source_3.instrument.T_obs)} years of evolution in Observer frame: \",\n",
    "      source_3.f_T_obs)"
   ]
  },
  {
   "cell_type": "markdown",
   "metadata": {},
   "source": [
    "## Plots of Example GW Band\n",
    "\n",
    "Displays only generated detectors: WN only PTAs, ESA L3 proposal LISA, aLIGO, and Einstein Telescope."
   ]
  },
  {
   "cell_type": "markdown",
   "metadata": {},
   "source": [
    "### Chirping Sources\n",
    "\n",
    "Displays two sources' waveform throughout its observing run (from left to right: `NANOGrav_11yr_hasasia`,`LISA_prop1`,`ET`). Since the default frame for each source is the observer frame, we get the observed frequency of each source `T_obs` before merger."
   ]
  },
  {
   "cell_type": "code",
   "execution_count": null,
   "metadata": {},
   "outputs": [],
   "source": [
    "source_1_t_T_obs_f = binary.Get_Source_Freq(source_1,LISA_prop1.T_obs,in_frame=\"observer\",out_frame=\"observer\")\n",
    "source_1_idx = np.abs(source_1.f-source_1_t_T_obs_f).argmin()\n",
    "\n",
    "source_2_t_T_obs_f = binary.Get_Source_Freq(source_2,aLIGO_1.T_obs,in_frame=\"observer\",out_frame=\"observer\")\n",
    "source_2_idx = np.abs(source_2.f-source_2_t_T_obs_f).argmin()\n",
    "\n",
    "source_3_t_T_obs_f = binary.Get_Source_Freq(source_3,NANOGrav_11yr_hasasia.T_obs,in_frame=\"observer\",out_frame=\"observer\")\n",
    "source_3_idx = np.abs(source_3.f-source_3_t_T_obs_f).argmin()"
   ]
  },
  {
   "cell_type": "code",
   "execution_count": null,
   "metadata": {},
   "outputs": [],
   "source": [
    "print(source_1.lalsuite_kwargs['S1x'],source_1.lalsuite_kwargs['S1y'],source_1.lalsuite_kwargs['S1z'],\n",
    "                source_1.lalsuite_kwargs['S2x'],source_1.lalsuite_kwargs['S2y'],source_1.lalsuite_kwargs['S2z'])\n",
    "print(r'$M = 10^{%.0f}$ $\\mathrm{M}_{\\odot}$, $z = %.0f$, $q = %.0f$, $i = \\frac{\\pi}{2}'%(np.log10(source_1.M.value),source_1.z,source_1.q) +\\\n",
    "      r'$\\textbf{S}_{1} = (%.1f,%.1f,%.1f)$, $\\textbf{S}_{2} = (%.1f,%.1f,%.1f)$'\\\n",
    "      %(source_1.lalsuite_kwargs['S1x'],source_1.lalsuite_kwargs['S1y'],source_1.lalsuite_kwargs['S1z'],\n",
    "      source_1.lalsuite_kwargs['S2x'],source_1.lalsuite_kwargs['S2y'],source_1.lalsuite_kwargs['S2z']))"
   ]
  },
  {
   "cell_type": "code",
   "execution_count": null,
   "metadata": {},
   "outputs": [],
   "source": [
    "plt.figure(figsize=get_fig_size())\n",
    "\n",
    "plt.loglog(NANOGrav_11yr_hasasia.fT,NANOGrav_11yr_hasasia.h_n_f,label='NANOGrav: 11yr Data')\n",
    "plt.loglog(LISA_prop1.fT,LISA_prop1.h_n_f,label='LISA: L3 Proposal')\n",
    "plt.loglog(aLIGO_1.fT,aLIGO_1.h_n_f,label='aLIGO')\n",
    "\n",
    "plt.loglog(source_3.f[source_3_idx:],binary.Get_Char_Strain(source_3)[source_3_idx:],\n",
    "          label=r'$M = 10^{%.0f}$ $\\mathrm{M}_{\\odot}$, $z = %.0f$, $q = %.0f$, $\\chi_{i} = %.2f$'\n",
    "              %(np.log10(source_3.M.value),source_3.z,source_3.q,source_3.chi1))\n",
    "plt.loglog(source_1.f[source_1_idx:],binary.Get_Char_Strain(source_1)[source_1_idx:],\n",
    "          label=r'$M = 10^{%.0f}$ $\\mathrm{M}_{\\odot}$, $z = %.0f$, $q = %.0f$, $i = \\frac{\\pi}{2}$,'\\\n",
    "           %(np.log10(source_1.M.value),source_1.z,source_1.q) +\\\n",
    "           r' $\\textbf{S}_{1} = (%.1f,%.1f,%.1f)$, $\\textbf{S}_{2} = (%.1f,%.1f,%.1f)$'\\\n",
    "           %(source_1.lalsuite_kwargs['S1x'],source_1.lalsuite_kwargs['S1y'],source_1.lalsuite_kwargs['S1z'],\n",
    "             source_1.lalsuite_kwargs['S2x'],source_1.lalsuite_kwargs['S2y'],source_1.lalsuite_kwargs['S2z']))\n",
    "plt.loglog(source_2.f[source_2_idx:],binary.Get_Char_Strain(source_2)[source_2_idx:],\n",
    "          label=r'$M = 10^{%.0f}$ $\\mathrm{M}_{\\odot}$, $z = %.1f$, $q = %.0f$, $\\chi_{i} = %.1f$'\n",
    "              %(np.log10(source_2.M.value),source_2.z,source_2.q,source_2.chi1))\n",
    "\n",
    "xlabel_min = -10\n",
    "xlabel_mplt = 5\n",
    "xlabels = np.arange(xlabel_min,xlabel_mplt+1)\n",
    "xlabels = xlabels[1::]\n",
    "\n",
    "print_xlabels = []\n",
    "for x in xlabels:\n",
    "    if abs(x) > 1:\n",
    "        print_xlabels.append(r'$10^{%i}$' %x)\n",
    "    elif x == -1:\n",
    "        print_xlabels.append(r'$%.1f$' %10.**x)\n",
    "    else:\n",
    "        print_xlabels.append(r'$%.0f$' %10.**x)\n",
    "plt.xticks(10.**xlabels,print_xlabels)\n",
    "\n",
    "plt.xlim([5e-10, 7e3])\n",
    "plt.ylim([3e-25, 4e-12])\n",
    "\n",
    "plt.xlabel('Frequency [Hz]')\n",
    "plt.ylabel('Characteristic Strain')\n",
    "plt.legend(fontsize=7)\n",
    "plt.show()"
   ]
  },
  {
   "cell_type": "markdown",
   "metadata": {},
   "source": [
    "### Monochromatic Sources\n",
    "\n",
    "Displays a comparison between two monochromatic strain sources, one equal mass, the other at a mass ratio of 18. The initial frequency is set by the NANOGrav 11yr at the detector's most sensitive frequency. The  NANOGrav  11yr  data in this plot corresponds to a source strain ($h_{0}$) with SNR of one;  note that this is not characteristic strain."
   ]
  },
  {
   "cell_type": "code",
   "execution_count": null,
   "metadata": {},
   "outputs": [],
   "source": [
    "source_4 = binary.BBHFrequencyDomain(1e10,1.0,0.1,0.0,0.0,instrument=NANOGrav_11yr_hasasia)\n",
    "source_5 = binary.BBHFrequencyDomain(1e10,18.0,0.1,0.0,0.0,instrument=NANOGrav_11yr_hasasia)"
   ]
  },
  {
   "cell_type": "code",
   "execution_count": null,
   "metadata": {},
   "outputs": [],
   "source": [
    "plt.figure(figsize=get_fig_size())\n",
    "\n",
    "plt.loglog(NANOGrav_11yr_hasasia.fT,\n",
    "           np.sqrt(NANOGrav_11yr_hasasia.S_n_f/np.max(np.unique(NANOGrav_11yr_hasasia.T_obs.to('s').value))),\n",
    "           label=r'NANOGrav: 11yr Data')\n",
    "plt.scatter(source_4.f_gw,\n",
    "            source_4.h_gw,\n",
    "            color='C1',\n",
    "            label=r'$M = 10^{%.0f}$ $\\mathrm{M}_{\\odot}$, $z = %.1f$, $q = %.0f$'\n",
    "              %(np.log10(source_4.M.value),source_4.z,source_4.q))\n",
    "plt.scatter(source_5.f_gw,\n",
    "            source_5.h_gw,\n",
    "            color='C2',\n",
    "            label=r'$M = 10^{%.0f}$ $\\mathrm{M}_{\\odot}$, $z = %.1f$, $q = %.0f$'\n",
    "              %(np.log10(source_5.M.value),source_5.z,source_5.q))\n",
    "\n",
    "plt.xlabel('Frequency [Hz]')\n",
    "plt.ylabel('Strain')\n",
    "plt.legend(loc='upper left')\n",
    "plt.show()"
   ]
  },
  {
   "cell_type": "markdown",
   "metadata": {},
   "source": [
    "## Calculating the SNR\n",
    "For the two sources displayed in the plot above, we will calculate the SNRs for monochromatic and chirping versions."
   ]
  },
  {
   "cell_type": "markdown",
   "metadata": {},
   "source": [
    "### Source 4: Monochromatic Case\n",
    "Response in LISA data\n",
    "First we set the source frequency. If you assign an instrument and not a frequency, `gwent` does this step internally and sets `f_gw` to the instruments optimal frequency (like we have done above too). "
   ]
  },
  {
   "cell_type": "code",
   "execution_count": null,
   "metadata": {},
   "outputs": [],
   "source": [
    "snr.Calc_Mono_SNR(source_4,NANOGrav_11yr_hasasia).to('')"
   ]
  },
  {
   "cell_type": "markdown",
   "metadata": {},
   "source": [
    "One can also change the inclination of the source for calculating the monochromatic SNR."
   ]
  },
  {
   "cell_type": "code",
   "execution_count": null,
   "metadata": {},
   "outputs": [],
   "source": [
    "snr.Calc_Mono_SNR(source_4,NANOGrav_11yr_hasasia,inc=np.pi/2).to('')"
   ]
  },
  {
   "cell_type": "markdown",
   "metadata": {},
   "source": [
    "### Source 2: Chirping Case\n",
    "Response in aLIGO data\n",
    "\n",
    "To set the start frequency of integration, you need to set the amount of time the instrument observes the source. This is done automatically for the given instrument."
   ]
  },
  {
   "cell_type": "code",
   "execution_count": null,
   "metadata": {},
   "outputs": [],
   "source": [
    "snr.Calc_Chirp_SNR(source_2,aLIGO_1)"
   ]
  },
  {
   "cell_type": "markdown",
   "metadata": {},
   "source": [
    "### Source 1: Chirping Case\n",
    "Response in LISA data"
   ]
  },
  {
   "cell_type": "code",
   "execution_count": null,
   "metadata": {},
   "outputs": [],
   "source": [
    "snr.Calc_Chirp_SNR(source_1,LISA_prop1)"
   ]
  },
  {
   "cell_type": "markdown",
   "metadata": {},
   "source": [
    "Other ways this can be done is by setting the instrument's observation time or by using `binary.Check_Freq_Evol` and setting the optional `T_evol` parameter to the new observation time.\n",
    "\n",
    "You can see in tis case, we have to drastically shorten the observed time to visibly change the SNR because the source waveform is so close to merger at the edge of LISA's frequency band."
   ]
  },
  {
   "cell_type": "code",
   "execution_count": null,
   "metadata": {},
   "outputs": [],
   "source": [
    "binary.Check_Freq_Evol(source_1,T_evol=1*u.hr)\n",
    "snr.Calc_Chirp_SNR(source_1,LISA_prop1)"
   ]
  },
  {
   "cell_type": "markdown",
   "metadata": {},
   "source": [
    "## Generate Frequency Data from Given Time Domain\n",
    "\n",
    "Uses waveforms that are the difference between Effective One Body waveforms subtracted from Numerical Relativity waveforms for different harmonics.\n",
    "\n",
    "This method and use is fairly untested, so proceed with caution and feel free to help out!"
   ]
  },
  {
   "cell_type": "code",
   "execution_count": null,
   "metadata": {},
   "outputs": [],
   "source": [
    "EOBdiff_filedirectory = load_directory + '/DiffStrain/EOBdiff/'\n",
    "diff0002 = binary.BBHTimeDomain(M[1],q[0],z[1],load_location=EOBdiff_filedirectory+'diff0002.dat')\n",
    "diff0114 = binary.BBHTimeDomain(M[1],q[0],z[1],load_location=EOBdiff_filedirectory+'diff0114.dat')\n",
    "diff0178 = binary.BBHTimeDomain(M[1],q[0],z[1],load_location=EOBdiff_filedirectory+'diff0178.dat')\n",
    "diff0261 = binary.BBHTimeDomain(M[1],q[0],z[1],load_location=EOBdiff_filedirectory+'diff0261.dat')\n",
    "diff0303 = binary.BBHTimeDomain(M[1],q[0],z[1],load_location=EOBdiff_filedirectory+'diff0303.dat')"
   ]
  },
  {
   "cell_type": "code",
   "execution_count": null,
   "metadata": {},
   "outputs": [],
   "source": [
    "fig,ax = plt.subplots()\n",
    "plt.loglog(aLIGO_1.fT,aLIGO_1.h_n_f,label = aLIGO_1.name)\n",
    "plt.loglog(diff0002.f,binary.Get_Char_Strain(diff0002),label = 'diff0002')\n",
    "plt.loglog(diff0114.f,binary.Get_Char_Strain(diff0114),label = 'diff0114')\n",
    "plt.loglog(diff0178.f,binary.Get_Char_Strain(diff0178),label = 'diff0178')\n",
    "plt.loglog(diff0261.f,binary.Get_Char_Strain(diff0261),label = 'diff0261')\n",
    "plt.loglog(diff0303.f,binary.Get_Char_Strain(diff0303),label = 'diff0303')\n",
    "plt.xlabel(r'Frequency $[Hz]$')\n",
    "plt.ylabel('Characteristic Strain')\n",
    "plt.legend()\n",
    "plt.show()"
   ]
  },
  {
   "cell_type": "code",
   "execution_count": null,
   "metadata": {},
   "outputs": [],
   "source": []
  }
 ],
 "metadata": {
  "kernelspec": {
   "display_name": "Python 3",
   "language": "python",
   "name": "python3"
  },
  "language_info": {
   "codemirror_mode": {
    "name": "ipython",
    "version": 3
   },
   "file_extension": ".py",
   "mimetype": "text/x-python",
   "name": "python",
   "nbconvert_exporter": "python",
   "pygments_lexer": "ipython3",
   "version": "3.7.7"
  }
 },
 "nbformat": 4,
 "nbformat_minor": 2
}
